{
 "cells": [
  {
   "cell_type": "code",
   "execution_count": 1,
   "metadata": {
    "collapsed": true
   },
   "outputs": [],
   "source": [
    "import sqlite3 as lite"
   ]
  },
  {
   "cell_type": "markdown",
   "metadata": {},
   "source": [
    "## Connect to the SQLite to the Database"
   ]
  },
  {
   "cell_type": "code",
   "execution_count": 2,
   "metadata": {
    "collapsed": true
   },
   "outputs": [],
   "source": [
    "# create databse in RAM\n",
    "db = lite.connect(':memory:')\n",
    "# create or open a file called musicdb with SQLite3 DB\n",
    "db = lite.connect('data/musicdb')"
   ]
  },
  {
   "cell_type": "markdown",
   "metadata": {},
   "source": [
    "## Creating and Deleting tables"
   ]
  },
  {
   "cell_type": "code",
   "execution_count": 3,
   "metadata": {
    "collapsed": true
   },
   "outputs": [],
   "source": [
    "cursor = db.cursor()\n",
    "cursor.execute(\n",
    "    'CREATE TABLE songs(id INTEGER PRIMARY KEY, name TEXT, artist TEXT)'\n",
    ")\n",
    "db.commit()"
   ]
  },
  {
   "cell_type": "code",
   "execution_count": 4,
   "metadata": {
    "collapsed": true
   },
   "outputs": [],
   "source": [
    "cursor.execute(\n",
    "    'DROP TABLE songs'\n",
    ")\n",
    "db.commit()"
   ]
  },
  {
   "cell_type": "markdown",
   "metadata": {},
   "source": [
    "## Inserting data into the database"
   ]
  },
  {
   "cell_type": "code",
   "execution_count": 5,
   "metadata": {
    "collapsed": false
   },
   "outputs": [
    {
     "name": "stdout",
     "output_type": "stream",
     "text": [
      "first song has been inserted\n",
      "second song has been inserted\n",
      "third song has been inserted\n"
     ]
    }
   ],
   "source": [
    "name1 = 'Sorry'\n",
    "artist1 = 'Justin Bieber'\n",
    "\n",
    "name2 = 'Style'\n",
    "artist2 = 'Taylor Swift'\n",
    "\n",
    "name3 = 'Hello'\n",
    "artist3 = 'Adele'\n",
    "\n",
    "# create the db again\n",
    "cursor.execute(\n",
    "    'CREATE TABLE songs(id INTEGER PRIMARY KEY, name TEXT, artist TEXT)'\n",
    ")\n",
    "\n",
    "# insert song1\n",
    "cursor.execute(\n",
    "    'INSERT INTO songs(name, artist) VALUES (?, ?)', (name1, artist1)\n",
    ")\n",
    "print('first song has been inserted')\n",
    "\n",
    "cursor.execute(\n",
    "    'INSERT INTO songs(name, artist) VALUES (?, ?)', (name2, artist2)\n",
    ")\n",
    "print('second song has been inserted')\n",
    "\n",
    "cursor.execute(\n",
    "    'INSERT INTO songs(name, artist) VALUES (?, ?)', (name3, artist3)\n",
    ")\n",
    "print('third song has been inserted')\n",
    "\n",
    "db.commit()"
   ]
  },
  {
   "cell_type": "code",
   "execution_count": 6,
   "metadata": {
    "collapsed": false
   },
   "outputs": [
    {
     "name": "stdout",
     "output_type": "stream",
     "text": [
      "fourth song has been inserted\n"
     ]
    }
   ],
   "source": [
    "song4 = {'name': 'Passionfruit', 'artist': 'Drake'}\n",
    "\n",
    "cursor.execute(\n",
    "    'INSERT INTO songs(name, artist) VALUES (:name, :artist)',\n",
    "    song4\n",
    ")\n",
    "print('fourth song has been inserted')\n",
    "db.commit()"
   ]
  },
  {
   "cell_type": "code",
   "execution_count": 7,
   "metadata": {
    "collapsed": false
   },
   "outputs": [
    {
     "name": "stdout",
     "output_type": "stream",
     "text": [
      "fifth, sixth and seventh songs have been inserted\n"
     ]
    }
   ],
   "source": [
    "songs567 = [\n",
    "    ('Down', 'Jay Sean'),\n",
    "    ('Do You Remeber', 'Jay Sean'),\n",
    "    ('2012', 'Jay Sean')\n",
    "]\n",
    "\n",
    "cursor.executemany(\n",
    "    'INSERT INTO songs(name, artist) VALUES (?, ?)',\n",
    "    songs567\n",
    ")\n",
    "print('fifth, sixth and seventh songs have been inserted')\n",
    "\n",
    "db.commit()"
   ]
  },
  {
   "cell_type": "markdown",
   "metadata": {},
   "source": [
    "## Retrieving data"
   ]
  },
  {
   "cell_type": "code",
   "execution_count": 8,
   "metadata": {
    "collapsed": false
   },
   "outputs": [
    {
     "name": "stdout",
     "output_type": "stream",
     "text": [
      "('Justin Bieber', 'Sorry') \n",
      "\n",
      "Taylor Swift sang Style\n",
      "Adele sang Hello\n",
      "Drake sang Passionfruit\n",
      "Jay Sean sang Down\n",
      "Jay Sean sang Do You Remeber\n",
      "Jay Sean sang 2012\n"
     ]
    }
   ],
   "source": [
    "cursor.execute(\n",
    "    'SELECT artist, name FROM songs'\n",
    ")\n",
    "\n",
    "# retrieves the first row\n",
    "some_song_info_1 = cursor.fetchone()\n",
    "print(some_song_info_1, '\\n')\n",
    "\n",
    "all_song_info = cursor.fetchall()\n",
    "for song_info in all_song_info:\n",
    "    print('%s sang %s' % (song_info[0], song_info[1]))"
   ]
  },
  {
   "cell_type": "code",
   "execution_count": 9,
   "metadata": {
    "collapsed": false
   },
   "outputs": [
    {
     "name": "stdout",
     "output_type": "stream",
     "text": [
      "Jay Sean sang  ('Down',)\n",
      "Jay Sean sang  ('Do You Remeber',)\n",
      "Jay Sean sang  ('2012',)\n",
      "[]\n"
     ]
    }
   ],
   "source": [
    "cursor.execute(\n",
    "    'SELECT name FROM songs WHERE artist=?',\n",
    "    ('Jay Sean',)\n",
    ")\n",
    "\n",
    "print('Jay Sean sang ', cursor.fetchone())\n",
    "print('Jay Sean sang ', cursor.fetchone())\n",
    "print('Jay Sean sang ', cursor.fetchone())\n",
    "\n",
    "print(cursor.fetchall())"
   ]
  },
  {
   "cell_type": "code",
   "execution_count": 10,
   "metadata": {
    "collapsed": false
   },
   "outputs": [
    {
     "name": "stdout",
     "output_type": "stream",
     "text": [
      "[('Down',), ('Do You Remeber',), ('2012',)]\n"
     ]
    }
   ],
   "source": [
    "cursor.execute(\n",
    "    'SELECT name FROM songs WHERE artist=?',\n",
    "    ('Jay Sean', )\n",
    ")\n",
    "print(cursor.fetchall())"
   ]
  },
  {
   "cell_type": "markdown",
   "metadata": {},
   "source": [
    "## Updating and Deleting data"
   ]
  },
  {
   "cell_type": "code",
   "execution_count": 11,
   "metadata": {
    "collapsed": true
   },
   "outputs": [],
   "source": [
    "# update the first song in db\n",
    "new_song = 'Heart Out'\n",
    "new_artist = 'The 1975'\n",
    "\n",
    "cursor.execute(\n",
    "    'UPDATE songs SET name=?, artist=? WHERE id=?',\n",
    "    (new_song, new_artist, 1)\n",
    ")\n",
    "\n",
    "db.commit()"
   ]
  },
  {
   "cell_type": "code",
   "execution_count": 12,
   "metadata": {
    "collapsed": true
   },
   "outputs": [],
   "source": [
    "# delete the second song in db\n",
    "delete_song_id = 3\n",
    "\n",
    "cursor.execute(\n",
    "    'DELETE FROM songs WHERE id=?',\n",
    "    (delete_song_id,)\n",
    ")\n",
    "\n",
    "db.commit()"
   ]
  },
  {
   "cell_type": "markdown",
   "metadata": {},
   "source": [
    "## SQLite Database Execeptions"
   ]
  },
  {
   "cell_type": "code",
   "execution_count": 13,
   "metadata": {
    "collapsed": true
   },
   "outputs": [],
   "source": [
    "user_and_pass = [\n",
    "    ('Harry', 'Styles'),\n",
    "    ('Zayn', 'Malik'),\n",
    "    ('Niall', 'Horan')\n",
    "]\n",
    "\n",
    "cursor.execute(\n",
    "    'CREATE TABLE IF NOT EXISTS users(id INTEGER PRIMARY KEY, user TEXT unique, password TEXT)'\n",
    ")\n",
    "cursor.executemany(\n",
    "    'INSERT INTO users(user, password) VALUES (?, ?)',\n",
    "     user_and_pass\n",
    ")\n",
    "\n",
    "db.commit()"
   ]
  },
  {
   "cell_type": "code",
   "execution_count": 14,
   "metadata": {
    "collapsed": false
   },
   "outputs": [
    {
     "name": "stdout",
     "output_type": "stream",
     "text": [
      "This entry ('Harry', 'Styles') already exists\n",
      "\n",
      "-----THE DB LOOKS LIKE THIS-----\n",
      "(1, 'Harry', 'Styles')\n",
      "(2, 'Zayn', 'Malik')\n",
      "(3, 'Niall', 'Horan')\n",
      "\n",
      "\n",
      "The db is now closed\n"
     ]
    }
   ],
   "source": [
    "try:\n",
    "    cursor.execute(\n",
    "        'INSERT INTO users(user, password) VALUES (?, ?)',\n",
    "        user_and_pass[0]\n",
    "    )\n",
    "except lite.IntegrityError:\n",
    "    print('This entry', user_and_pass[0], 'already exists')\n",
    "    cursor.execute('SELECT * FROM users')\n",
    "    users = cursor.fetchall()\n",
    "    print('\\n-----THE DB LOOKS LIKE THIS-----')\n",
    "    for user in users:\n",
    "        print(user)\n",
    "    print('\\n')\n",
    "finally:\n",
    "    db.close()\n",
    "    print('The db is now closed')"
   ]
  },
  {
   "cell_type": "code",
   "execution_count": null,
   "metadata": {
    "collapsed": true
   },
   "outputs": [],
   "source": []
  }
 ],
 "metadata": {
  "kernelspec": {
   "display_name": "Python 3",
   "language": "python",
   "name": "python3"
  },
  "language_info": {
   "codemirror_mode": {
    "name": "ipython",
    "version": 3
   },
   "file_extension": ".py",
   "mimetype": "text/x-python",
   "name": "python",
   "nbconvert_exporter": "python",
   "pygments_lexer": "ipython3",
   "version": "3.6.0"
  }
 },
 "nbformat": 4,
 "nbformat_minor": 2
}
